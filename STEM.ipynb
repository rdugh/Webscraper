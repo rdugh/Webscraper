{
 "metadata": {
  "language_info": {
   "codemirror_mode": {
    "name": "ipython",
    "version": 3
   },
   "file_extension": ".py",
   "mimetype": "text/x-python",
   "name": "python",
   "nbconvert_exporter": "python",
   "pygments_lexer": "ipython3",
   "version": "3.7.3-final"
  },
  "orig_nbformat": 2,
  "kernelspec": {
   "name": "python37364bit540ca899645842b89bf16ff9bf90538a",
   "display_name": "Python 3.7.3 64-bit",
   "language": "python"
  }
 },
 "nbformat": 4,
 "nbformat_minor": 2,
 "cells": [
  {
   "source": [
    "# Goal\n",
    "The following is the code for scraping LinkedIn for STEM students, find the general skills and degree related.\n",
    "I would use Beautiful soup and selenium together\n",
    "|job title|major|skills|"
   ],
   "cell_type": "markdown",
   "metadata": {}
  },
  {
   "source": [
    "# Selenium+BeautifulSoup"
   ],
   "cell_type": "markdown",
   "metadata": {}
  },
  {
   "cell_type": "code",
   "execution_count": 9,
   "metadata": {},
   "outputs": [],
   "source": [
    "import math\n",
    "import pandas as pd\n",
    "import re\n",
    "from bs4 import BeautifulSoup\n",
    "from datetime import date, timedelta, datetime\n",
    "from IPython.core.display import clear_output\n",
    "from random import randint\n",
    "from requests import get\n",
    "from selenium import webdriver\n",
    "from selenium.webdriver.common.action_chains import ActionChains\n",
    "from time import sleep\n",
    "from time import time\n",
    "start_time = time()\n",
    "from warnings import warn\n",
    "from datetime import datetime\n"
   ]
  },
  {
   "cell_type": "code",
   "execution_count": 10,
   "metadata": {},
   "outputs": [],
   "source": [
    "# replace variables here.\n",
    "url = \"https://www.linkedin.com/jobs/search?keywords=physical%20Chemistry&location=United%20States&geoId=103644278&trk=public_jobs_jobs-search-bar_search-submit&redirect=false&position=1&pageNum=0\"\n",
    "no_of_jobs = 50"
   ]
  },
  {
   "cell_type": "code",
   "execution_count": 11,
   "metadata": {},
   "outputs": [],
   "source": [
    "# this will open up new window with the url provided above \n",
    "driver = webdriver.Chrome('/Users/livi/Git/Webscraper/chromedriver')\n",
    "driver.get(url)\n",
    "sleep(3)\n",
    "action = ActionChains(driver)"
   ]
  },
  {
   "cell_type": "code",
   "execution_count": 12,
   "metadata": {},
   "outputs": [],
   "source": [
    "# to show more jobs. Depends on number of jobs selected\n",
    "i = 2\n",
    "while i <= math.ceil(no_of_jobs/25): \n",
    "    #driver.find_element_by_xpath('/html/body/main/div/section/button').send_keys(Keys.PAGE_DOWN)\n",
    "    driver.execute_script(\"window.scrollTo(0,  document.body.scrollHeight);\")\n",
    "    i = i + 1\n",
    "    sleep(15)"
   ]
  },
  {
   "cell_type": "code",
   "execution_count": 13,
   "metadata": {},
   "outputs": [
    {
     "output_type": "stream",
     "name": "stdout",
     "text": [
      "You are scraping information about 49 jobs.\n"
     ]
    }
   ],
   "source": [
    "# parsing the visible webpage\n",
    "pageSource = driver.page_source\n",
    "lxml_soup = BeautifulSoup(pageSource, 'lxml')\n",
    "\n",
    "# searching for all job containers\n",
    "job_container = lxml_soup.find('ul', class_ = 'jobs-search__results-list')\n",
    "\n",
    "print('You are scraping information about {} jobs.'.format(len(job_container)))"
   ]
  },
  {
   "cell_type": "code",
   "execution_count": 14,
   "metadata": {},
   "outputs": [],
   "source": [
    "# setting up list for job information\n",
    "job_id = []\n",
    "post_title = []\n",
    "company_name = []\n",
    "post_date = []\n",
    "job_location = []\n",
    "job_desc = []\n",
    "level = []\n",
    "emp_type = []\n",
    "functions = []\n",
    "industries = []\n",
    "\n",
    "# for loop for job title, company, id, location and date posted\n",
    "for job in job_container:\n",
    "\n",
    "    # job title\n",
    "    job_titles = job.find(\"span\", class_=\"screen-reader-text\").text\n",
    "    post_title.append(job_titles)\n",
    "    \n",
    "    # linkedin job id\n",
    "    job_ids = job.find('a', href=True)['href']\n",
    "    job_ids = re.findall(r'(?!-)([0-9]*)(?=\\?)',job_ids)[0]\n",
    "    job_id.append(job_ids)\n",
    "    \n",
    "    # company name\n",
    "    company_names = job.select_one('img')['alt']\n",
    "    company_name.append(company_names)\n",
    "    \n",
    "    # job location\n",
    "    job_locations = job.find(\"span\", class_=\"job-result-card__location\").text\n",
    "    job_location.append(job_locations)\n",
    "    \n",
    "    # posting date\n",
    "    post_dates = job.select_one('time')['datetime']\n",
    "    post_date.append(post_dates)"
   ]
  },
  {
   "cell_type": "code",
   "execution_count": 15,
   "metadata": {
    "tags": []
   },
   "outputs": [],
   "source": [
    "# for loop for job description and criterias\n",
    "for x in range(1,len(job_id)+1):\n",
    "    \n",
    "    # clicking on different job containers to view information about the job\n",
    "    job_xpath = '/html/body/main/div/section/ul/li[{}]/img'.format(x)\n",
    "    driver.find_element_by_xpath(job_xpath).click()\n",
    "    sleep(3)\n",
    "\n",
    "    # job description    \n",
    "    jb = driver.find_element_by_class_name('show-more-less-html')\n",
    "    jb_html=jb.get_attribute('outerHTML')\n",
    "    del jb\n",
    "    jb = BeautifulSoup(jb_html, 'html.parser')\n",
    "    jj = jb.find('div', class_ = 'show-more-less-html__markup show-more-less-html__markup--clamp-after-5')\n",
    "    #full_description='\\n'.join(jj.find_all(text=True))\n",
    "    full_description=jj.find_all(text=True)\n",
    "    job_desc.append(full_description)\n",
    "\n",
    "    \n",
    "    # Seniority level\n",
    "    seniority_xpath = '/html/body/main/section/div[2]/section[2]/ul/li[1]'\n",
    "    seniority = driver.find_element_by_xpath(seniority_xpath).text.splitlines(0)[1]\n",
    "    level.append(seniority)\n",
    "    \n",
    "    # Employment type\n",
    "    type_xpath = '/html/body/main/section/div[2]/section[2]/ul/li[2]'\n",
    "    employment_type = driver.find_element_by_xpath(type_xpath).text.splitlines(0)[1]\n",
    "    emp_type.append(employment_type)\n",
    "\n",
    "    # Job function\n",
    "    function_xpath = '/html/body/main/section/div[2]/section[2]/ul/li[3]'\n",
    "    job_function = driver.find_element_by_xpath(function_xpath).text.splitlines(0)[1]\n",
    "    functions.append(job_function)\n",
    "    \n",
    "    # Industries\n",
    "    industry_xpath = '/html/body/main/section/div[2]/section[2]/ul/li[4]'\n",
    "    industry_type = driver.find_element_by_xpath(industry_xpath).text.splitlines(0)[1]\n",
    "    industries.append(industry_type)"
   ]
  },
  {
   "cell_type": "code",
   "execution_count": 16,
   "metadata": {},
   "outputs": [
    {
     "output_type": "stream",
     "name": "stdout",
     "text": [
      "49\n49\n49\n49\n49\n49\n49\n49\n49\n49\n"
     ]
    }
   ],
   "source": [
    "# to check if we have all information\n",
    "print(len(job_id))\n",
    "print(len(post_date))\n",
    "print(len(company_name))\n",
    "print(len(post_title))\n",
    "print(len(job_location))\n",
    "print(len(job_desc))\n",
    "print(len(level))\n",
    "print(len(emp_type))\n",
    "print(len(functions))\n",
    "print(len(industries))"
   ]
  },
  {
   "cell_type": "code",
   "execution_count": 17,
   "metadata": {},
   "outputs": [
    {
     "output_type": "stream",
     "name": "stdout",
     "text": [
      "<class 'pandas.core.frame.DataFrame'>\nRangeIndex: 49 entries, 0 to 48\nData columns (total 10 columns):\n #   Column        Non-Null Count  Dtype \n---  ------        --------------  ----- \n 0   Job ID        49 non-null     object\n 1   Date          49 non-null     object\n 2   Company Name  49 non-null     object\n 3   Post          49 non-null     object\n 4   Location      49 non-null     object\n 5   Description   49 non-null     object\n 6   Level         49 non-null     object\n 7   Type          49 non-null     object\n 8   Function      49 non-null     object\n 9   Industry      49 non-null     object\ndtypes: object(10)\nmemory usage: 4.0+ KB\nNone\n"
     ]
    },
    {
     "output_type": "execute_result",
     "data": {
      "text/plain": [
       "       Job ID        Date                                       Company Name  \\\n",
       "0  2427562360  2021-02-17                           National Security Agency   \n",
       "1  2416488587  2021-02-18                               Procter &amp; Gamble   \n",
       "2  2429494096  2021-02-18  National Institute of Standards and Technology...   \n",
       "3  2416456869  2021-02-18                                              Apple   \n",
       "4  2427795618  2021-02-18                                       SGS &amp; Co   \n",
       "\n",
       "                                         Post                 Location  \\\n",
       "0        Physical Scientist - Entry/Mid Level           Fort Meade, MD   \n",
       "1  Mechanical and Physical Testing Researcher           Cincinnati, OH   \n",
       "2                            Research Chemist         Gaithersburg, MD   \n",
       "3                              Lab Technician              Boulder, CO   \n",
       "4                         Chemistry Analyst I  Illinois, United States   \n",
       "\n",
       "                                         Description           Level  \\\n",
       "0  [Responsibilities, The professionals at the Na...  Not Applicable   \n",
       "1  [Description, Mechanical and Physical Testing ...  Not Applicable   \n",
       "2  [Duties, The Material Measurement Laboratory i...     Entry level   \n",
       "3  [Summary,  , The panel process and optics (PPO...  Not Applicable   \n",
       "4  [Summary, Job Description, The Analyst I, Chem...       Associate   \n",
       "\n",
       "        Type                               Function  \\\n",
       "0  Full-time  ResearchAnalystInformation Technology   \n",
       "1  Full-time             ResearchScienceEngineering   \n",
       "2  Full-time                                Science   \n",
       "3  Full-time  ResearchAnalystInformation Technology   \n",
       "4  Full-time  ResearchAnalystInformation Technology   \n",
       "\n",
       "                                            Industry  \n",
       "0  Computer & Network SecurityGovernment Administ...  \n",
       "1                                     Consumer Goods  \n",
       "2                                           Research  \n",
       "3                               Consumer Electronics  \n",
       "4  ConstructionMarketing and AdvertisingInformati...  "
      ],
      "text/html": "<div>\n<style scoped>\n    .dataframe tbody tr th:only-of-type {\n        vertical-align: middle;\n    }\n\n    .dataframe tbody tr th {\n        vertical-align: top;\n    }\n\n    .dataframe thead th {\n        text-align: right;\n    }\n</style>\n<table border=\"1\" class=\"dataframe\">\n  <thead>\n    <tr style=\"text-align: right;\">\n      <th></th>\n      <th>Job ID</th>\n      <th>Date</th>\n      <th>Company Name</th>\n      <th>Post</th>\n      <th>Location</th>\n      <th>Description</th>\n      <th>Level</th>\n      <th>Type</th>\n      <th>Function</th>\n      <th>Industry</th>\n    </tr>\n  </thead>\n  <tbody>\n    <tr>\n      <th>0</th>\n      <td>2427562360</td>\n      <td>2021-02-17</td>\n      <td>National Security Agency</td>\n      <td>Physical Scientist - Entry/Mid Level</td>\n      <td>Fort Meade, MD</td>\n      <td>[Responsibilities, The professionals at the Na...</td>\n      <td>Not Applicable</td>\n      <td>Full-time</td>\n      <td>ResearchAnalystInformation Technology</td>\n      <td>Computer &amp; Network SecurityGovernment Administ...</td>\n    </tr>\n    <tr>\n      <th>1</th>\n      <td>2416488587</td>\n      <td>2021-02-18</td>\n      <td>Procter &amp;amp; Gamble</td>\n      <td>Mechanical and Physical Testing Researcher</td>\n      <td>Cincinnati, OH</td>\n      <td>[Description, Mechanical and Physical Testing ...</td>\n      <td>Not Applicable</td>\n      <td>Full-time</td>\n      <td>ResearchScienceEngineering</td>\n      <td>Consumer Goods</td>\n    </tr>\n    <tr>\n      <th>2</th>\n      <td>2429494096</td>\n      <td>2021-02-18</td>\n      <td>National Institute of Standards and Technology...</td>\n      <td>Research Chemist</td>\n      <td>Gaithersburg, MD</td>\n      <td>[Duties, The Material Measurement Laboratory i...</td>\n      <td>Entry level</td>\n      <td>Full-time</td>\n      <td>Science</td>\n      <td>Research</td>\n    </tr>\n    <tr>\n      <th>3</th>\n      <td>2416456869</td>\n      <td>2021-02-18</td>\n      <td>Apple</td>\n      <td>Lab Technician</td>\n      <td>Boulder, CO</td>\n      <td>[Summary,  , The panel process and optics (PPO...</td>\n      <td>Not Applicable</td>\n      <td>Full-time</td>\n      <td>ResearchAnalystInformation Technology</td>\n      <td>Consumer Electronics</td>\n    </tr>\n    <tr>\n      <th>4</th>\n      <td>2427795618</td>\n      <td>2021-02-18</td>\n      <td>SGS &amp;amp; Co</td>\n      <td>Chemistry Analyst I</td>\n      <td>Illinois, United States</td>\n      <td>[Summary, Job Description, The Analyst I, Chem...</td>\n      <td>Associate</td>\n      <td>Full-time</td>\n      <td>ResearchAnalystInformation Technology</td>\n      <td>ConstructionMarketing and AdvertisingInformati...</td>\n    </tr>\n  </tbody>\n</table>\n</div>"
     },
     "metadata": {},
     "execution_count": 17
    }
   ],
   "source": [
    "# creating a dataframe\n",
    "job_data = pd.DataFrame.from_dict({'Job ID': job_id,\n",
    "'Date': post_date,\n",
    "'Company Name': company_name,\n",
    "'Post': post_title,\n",
    "'Location': job_location,\n",
    "'Description': job_desc,\n",
    "'Level': level,\n",
    "'Type': emp_type,'Function': functions,'Industry': industries},orient='index').T\n",
    "\n",
    "\n",
    "# cleaning description column\n",
    "#job_data['Description'] = job_data['Description'].str.replace('\\n',' ')\n",
    "\n",
    "print(job_data.info())\n",
    "job_data.head()"
   ]
  },
  {
   "cell_type": "code",
   "execution_count": 18,
   "metadata": {},
   "outputs": [],
   "source": [
    "# datetime object containing current date and time\n",
    "now = datetime.now()\n",
    "dt_string = now.strftime(\"%d/%m/%Y %H:%M:%S\")\n",
    "na='job'+'_'.join(dt_string.split(' ')[0].split('/'))+'_'+'_'.join(dt_string.split(' ')[1].split(':'))+'.csv'\n",
    "job_data.to_csv(na)"
   ]
  },
  {
   "cell_type": "code",
   "execution_count": null,
   "metadata": {},
   "outputs": [],
   "source": []
  }
 ]
}
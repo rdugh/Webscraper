{
 "metadata": {
  "language_info": {
   "codemirror_mode": {
    "name": "ipython",
    "version": 3
   },
   "file_extension": ".py",
   "mimetype": "text/x-python",
   "name": "python",
   "nbconvert_exporter": "python",
   "pygments_lexer": "ipython3",
   "version": "3.7.3-final"
  },
  "orig_nbformat": 2,
  "kernelspec": {
   "name": "python37364bit540ca899645842b89bf16ff9bf90538a",
   "display_name": "Python 3.7.3 64-bit",
   "language": "python"
  }
 },
 "nbformat": 4,
 "nbformat_minor": 2,
 "cells": [
  {
   "source": [
    "The following is the code for scraping LinkedIn for STEM students, find the general skills and degree related.\n",
    "I would use Beautiful soup\n",
    "|job title|major|skills|"
   ],
   "cell_type": "markdown",
   "metadata": {}
  },
  {
   "source": [
    "Notes:\n",
    "1. may not be a good idea to use requests, because the account might be blocked easily"
   ],
   "cell_type": "markdown",
   "metadata": {}
  },
  {
   "source": [
    "# Selenium+BeautifulSoup"
   ],
   "cell_type": "markdown",
   "metadata": {}
  },
  {
   "cell_type": "code",
   "execution_count": 5,
   "metadata": {},
   "outputs": [],
   "source": [
    "import pandas as pd\n",
    "import re\n",
    "from bs4 import BeautifulSoup\n",
    "from datetime import date, timedelta, datetime\n",
    "from IPython.core.display import clear_output\n",
    "from random import randint\n",
    "from requests import get\n",
    "from selenium import webdriver\n",
    "from selenium.webdriver.common.action_chains import ActionChains\n",
    "from time import sleep\n",
    "from time import time\n",
    "start_time = time()\n",
    "from warnings import warn\n",
    "from datetime import datetime\n"
   ]
  },
  {
   "cell_type": "code",
   "execution_count": 6,
   "metadata": {},
   "outputs": [],
   "source": [
    "# replace variables here.\n",
    "url = \"https://www.linkedin.com/jobs/search?keywords=physical%20Chemistry&location=United%20States&geoId=103644278&trk=public_jobs_jobs-search-bar_search-submit&redirect=false&position=1&pageNum=0\"\n",
    "no_of_jobs = 25"
   ]
  },
  {
   "cell_type": "code",
   "execution_count": 7,
   "metadata": {},
   "outputs": [],
   "source": [
    "# this will open up new window with the url provided above \n",
    "driver = webdriver.Chrome('/Users/livi/Git/Web_Scraping/chromedriver')\n",
    "driver.get(url)\n",
    "sleep(3)\n",
    "action = ActionChains(driver)"
   ]
  },
  {
   "cell_type": "code",
   "execution_count": 8,
   "metadata": {},
   "outputs": [],
   "source": [
    "# to show more jobs. Depends on number of jobs selected\n",
    "i = 2\n",
    "while i <= (no_of_jobs/25): \n",
    "    driver.find_element_by_xpath('/html/body/main/div/section/button').click()\n",
    "    i = i + 1\n",
    "    sleep(5)"
   ]
  },
  {
   "cell_type": "code",
   "execution_count": 9,
   "metadata": {},
   "outputs": [
    {
     "output_type": "stream",
     "name": "stdout",
     "text": [
      "You are scraping information about 24 jobs.\n"
     ]
    }
   ],
   "source": [
    "# parsing the visible webpage\n",
    "pageSource = driver.page_source\n",
    "lxml_soup = BeautifulSoup(pageSource, 'lxml')\n",
    "\n",
    "# searching for all job containers\n",
    "job_container = lxml_soup.find('ul', class_ = 'jobs-search__results-list')\n",
    "\n",
    "print('You are scraping information about {} jobs.'.format(len(job_container)))"
   ]
  },
  {
   "cell_type": "code",
   "execution_count": 10,
   "metadata": {},
   "outputs": [],
   "source": [
    "# setting up list for job information\n",
    "job_id = []\n",
    "post_title = []\n",
    "company_name = []\n",
    "post_date = []\n",
    "job_location = []\n",
    "job_desc = []\n",
    "level = []\n",
    "emp_type = []\n",
    "functions = []\n",
    "industries = []\n",
    "\n",
    "# for loop for job title, company, id, location and date posted\n",
    "for job in job_container:\n",
    "\n",
    "    # job title\n",
    "    job_titles = job.find(\"span\", class_=\"screen-reader-text\").text\n",
    "    post_title.append(job_titles)\n",
    "    \n",
    "    # linkedin job id\n",
    "    job_ids = job.find('a', href=True)['href']\n",
    "    job_ids = re.findall(r'(?!-)([0-9]*)(?=\\?)',job_ids)[0]\n",
    "    job_id.append(job_ids)\n",
    "    \n",
    "    # company name\n",
    "    company_names = job.select_one('img')['alt']\n",
    "    company_name.append(company_names)\n",
    "    \n",
    "    # job location\n",
    "    job_locations = job.find(\"span\", class_=\"job-result-card__location\").text\n",
    "    job_location.append(job_locations)\n",
    "    \n",
    "    # posting date\n",
    "    post_dates = job.select_one('time')['datetime']\n",
    "    post_date.append(post_dates)"
   ]
  },
  {
   "cell_type": "code",
   "execution_count": 11,
   "metadata": {
    "tags": []
   },
   "outputs": [],
   "source": [
    "# for loop for job description and criterias\n",
    "for x in range(1,len(job_id)+1):\n",
    "    \n",
    "    # clicking on different job containers to view information about the job\n",
    "    job_xpath = '/html/body/main/div/section/ul/li[{}]/img'.format(x)\n",
    "    driver.find_element_by_xpath(job_xpath).click()\n",
    "    sleep(3)\n",
    "\n",
    "    # job description    \n",
    "    jb = driver.find_element_by_class_name('show-more-less-html')\n",
    "    jb_html=jb.get_attribute('outerHTML')\n",
    "    del jb\n",
    "    jb = BeautifulSoup(jb_html, 'html.parser')\n",
    "    jj = jb.find('div', class_ = 'show-more-less-html__markup show-more-less-html__markup--clamp-after-5')\n",
    "    full_description='\\n'.join(jj.find_all(text=True))\n",
    "    job_desc.append(full_description)\n",
    "\n",
    "    \n",
    "    # Seniority level\n",
    "    seniority_xpath = '/html/body/main/section/div[2]/section[2]/ul/li[1]'\n",
    "    seniority = driver.find_element_by_xpath(seniority_xpath).text.splitlines(0)[1]\n",
    "    level.append(seniority)\n",
    "    \n",
    "    # Employment type\n",
    "    type_xpath = '/html/body/main/section/div[2]/section[2]/ul/li[2]'\n",
    "    employment_type = driver.find_element_by_xpath(type_xpath).text.splitlines(0)[1]\n",
    "    emp_type.append(employment_type)\n",
    "\n",
    "    # Job function\n",
    "    function_xpath = '/html/body/main/section/div[2]/section[2]/ul/li[3]'\n",
    "    job_function = driver.find_element_by_xpath(function_xpath).text.splitlines(0)[1]\n",
    "    functions.append(job_function)\n",
    "    \n",
    "    # Industries\n",
    "    industry_xpath = '/html/body/main/section/div[2]/section[2]/ul/li[4]'\n",
    "    industry_type = driver.find_element_by_xpath(industry_xpath).text.splitlines(0)[1]\n",
    "    industries.append(industry_type)"
   ]
  },
  {
   "cell_type": "code",
   "execution_count": 12,
   "metadata": {},
   "outputs": [
    {
     "output_type": "stream",
     "name": "stdout",
     "text": [
      "24\n24\n24\n24\n24\n24\n24\n24\n24\n24\n"
     ]
    }
   ],
   "source": [
    "# to check if we have all information\n",
    "print(len(job_id))\n",
    "print(len(post_date))\n",
    "print(len(company_name))\n",
    "print(len(post_title))\n",
    "print(len(job_location))\n",
    "print(len(job_desc))\n",
    "print(len(level))\n",
    "print(len(emp_type))\n",
    "print(len(functions))\n",
    "print(len(industries))"
   ]
  },
  {
   "cell_type": "code",
   "execution_count": 13,
   "metadata": {},
   "outputs": [
    {
     "output_type": "stream",
     "name": "stdout",
     "text": [
      "<class 'pandas.core.frame.DataFrame'>\nRangeIndex: 24 entries, 0 to 23\nData columns (total 10 columns):\n #   Column        Non-Null Count  Dtype \n---  ------        --------------  ----- \n 0   Job ID        24 non-null     object\n 1   Date          24 non-null     object\n 2   Company Name  24 non-null     object\n 3   Post          24 non-null     object\n 4   Location      24 non-null     object\n 5   Description   24 non-null     object\n 6   Level         24 non-null     object\n 7   Type          24 non-null     object\n 8   Function      24 non-null     object\n 9   Industry      24 non-null     object\ndtypes: object(10)\nmemory usage: 2.0+ KB\nNone\n"
     ]
    },
    {
     "output_type": "execute_result",
     "data": {
      "text/plain": [
       "       Job ID        Date                     Company Name  \\\n",
       "0  2398274540  2021-01-28                     SGS &amp; Co   \n",
       "1  2406102446  2021-02-03               Treeline Analytics   \n",
       "2  2406509619  2021-02-03            State of Rhode Island   \n",
       "3  2386710524  2021-01-29  The Estée Lauder Companies Inc.   \n",
       "4  2360599921  2020-12-28     Bausch Health Companies Inc.   \n",
       "\n",
       "                      Post          Location  \\\n",
       "0      Chemistry Analyst I  Lincolnshire, IL   \n",
       "1       Laboratory Analyst    Bellingham, WA   \n",
       "2  Environmental Scientist    Providence, RI   \n",
       "3      Associate Scientist      Americas, TX   \n",
       "4  Chemistry Technician IV     Rochester, NY   \n",
       "\n",
       "                                         Description           Level  \\\n",
       "0  Job Description\\nSUMMARY \\nThe Analyst I, Chem...       Associate   \n",
       "1  Job Summary\\nConducts analysis, experimentatio...     Entry level   \n",
       "2  GENERAL STATEMENT OF DUTIES: To perform variou...       Associate   \n",
       "3  Refreshing of all raw material specifications ...  Not Applicable   \n",
       "4  Bausch Health Companies Inc. (NYSE/TSX: BHC) i...     Entry level   \n",
       "\n",
       "        Type                               Function  \\\n",
       "0  Full-time  ResearchAnalystInformation Technology   \n",
       "1  Full-time  ResearchAnalystInformation Technology   \n",
       "2  Full-time                                  Other   \n",
       "3  Full-time                        ResearchScience   \n",
       "4  Full-time                               Research   \n",
       "\n",
       "                                            Industry  \n",
       "0         ConstructionOil & EnergyFinancial Services  \n",
       "1                             Environmental Services  \n",
       "2  Government AdministrationFinancial ServicesHos...  \n",
       "3                            Consumer GoodsCosmetics  \n",
       "4                                    Pharmaceuticals  "
      ],
      "text/html": "<div>\n<style scoped>\n    .dataframe tbody tr th:only-of-type {\n        vertical-align: middle;\n    }\n\n    .dataframe tbody tr th {\n        vertical-align: top;\n    }\n\n    .dataframe thead th {\n        text-align: right;\n    }\n</style>\n<table border=\"1\" class=\"dataframe\">\n  <thead>\n    <tr style=\"text-align: right;\">\n      <th></th>\n      <th>Job ID</th>\n      <th>Date</th>\n      <th>Company Name</th>\n      <th>Post</th>\n      <th>Location</th>\n      <th>Description</th>\n      <th>Level</th>\n      <th>Type</th>\n      <th>Function</th>\n      <th>Industry</th>\n    </tr>\n  </thead>\n  <tbody>\n    <tr>\n      <th>0</th>\n      <td>2398274540</td>\n      <td>2021-01-28</td>\n      <td>SGS &amp;amp; Co</td>\n      <td>Chemistry Analyst I</td>\n      <td>Lincolnshire, IL</td>\n      <td>Job Description\\nSUMMARY \\nThe Analyst I, Chem...</td>\n      <td>Associate</td>\n      <td>Full-time</td>\n      <td>ResearchAnalystInformation Technology</td>\n      <td>ConstructionOil &amp; EnergyFinancial Services</td>\n    </tr>\n    <tr>\n      <th>1</th>\n      <td>2406102446</td>\n      <td>2021-02-03</td>\n      <td>Treeline Analytics</td>\n      <td>Laboratory Analyst</td>\n      <td>Bellingham, WA</td>\n      <td>Job Summary\\nConducts analysis, experimentatio...</td>\n      <td>Entry level</td>\n      <td>Full-time</td>\n      <td>ResearchAnalystInformation Technology</td>\n      <td>Environmental Services</td>\n    </tr>\n    <tr>\n      <th>2</th>\n      <td>2406509619</td>\n      <td>2021-02-03</td>\n      <td>State of Rhode Island</td>\n      <td>Environmental Scientist</td>\n      <td>Providence, RI</td>\n      <td>GENERAL STATEMENT OF DUTIES: To perform variou...</td>\n      <td>Associate</td>\n      <td>Full-time</td>\n      <td>Other</td>\n      <td>Government AdministrationFinancial ServicesHos...</td>\n    </tr>\n    <tr>\n      <th>3</th>\n      <td>2386710524</td>\n      <td>2021-01-29</td>\n      <td>The Estée Lauder Companies Inc.</td>\n      <td>Associate Scientist</td>\n      <td>Americas, TX</td>\n      <td>Refreshing of all raw material specifications ...</td>\n      <td>Not Applicable</td>\n      <td>Full-time</td>\n      <td>ResearchScience</td>\n      <td>Consumer GoodsCosmetics</td>\n    </tr>\n    <tr>\n      <th>4</th>\n      <td>2360599921</td>\n      <td>2020-12-28</td>\n      <td>Bausch Health Companies Inc.</td>\n      <td>Chemistry Technician IV</td>\n      <td>Rochester, NY</td>\n      <td>Bausch Health Companies Inc. (NYSE/TSX: BHC) i...</td>\n      <td>Entry level</td>\n      <td>Full-time</td>\n      <td>Research</td>\n      <td>Pharmaceuticals</td>\n    </tr>\n  </tbody>\n</table>\n</div>"
     },
     "metadata": {},
     "execution_count": 13
    }
   ],
   "source": [
    "# creating a dataframe\n",
    "job_data = pd.DataFrame.from_dict({'Job ID': job_id,\n",
    "'Date': post_date,\n",
    "'Company Name': company_name,\n",
    "'Post': post_title,\n",
    "'Location': job_location,\n",
    "'Description': job_desc,\n",
    "'Level': level,\n",
    "'Type': emp_type,'Function': functions,'Industry': industries},orient='index').T\n",
    "\n",
    "\n",
    "# cleaning description column\n",
    "#job_data['Description'] = job_data['Description'].str.replace('\\n',' ')\n",
    "\n",
    "print(job_data.info())\n",
    "job_data.head()"
   ]
  },
  {
   "cell_type": "code",
   "execution_count": 14,
   "metadata": {},
   "outputs": [],
   "source": [
    "# datetime object containing current date and time\n",
    "now = datetime.now()\n",
    "dt_string = now.strftime(\"%d/%m/%Y %H:%M:%S\")\n",
    "na='job'+'_'.join(dt_string.split(' ')[0].split('/'))+'_'+'_'.join(dt_string.split(' ')[1].split(':'))+'.csv'\n",
    "job_data.to_csv(na)"
   ]
  },
  {
   "source": [
    "# Request+BeautifulSoup"
   ],
   "cell_type": "markdown",
   "metadata": {}
  },
  {
   "cell_type": "code",
   "execution_count": 4,
   "metadata": {
    "tags": [
     "outputPrepend"
    ]
   },
   "outputs": [
    {
     "output_type": "stream",
     "name": "stdout",
     "text": [
      "\">Soderstrom, Susan DDS MS</a></h2><div class=\"phone\">(415) 731-4343</div><div class=\"categories\"><a data-analytics='{\"click_id\":1171,\"adclick\":false}' href=\"/san-francisco-ca/dentists\">Dentists</a></div><p class=\"adr\">595 Buckingham Way, San Francisco, CA 94132</p><span class=\"slogan\">Contact Us For Information</span><div class=\"links\"><a data-analytics='{\"click_id\":13}' href=\"/listings/1001637354622/directions\">Directions</a><a data-analytics='{\"click_id\":7}' href=\"/san-francisco-ca/mip/soderstrom-susan-dds-ms-11159746?lid=1001637354622\">More Info</a></div></div></div></div></section><div id=\"banner-ad-bottom-right\"><div id=\"div-gpt-ad-1555631981784-0\"><script type=\"text/javascript\">googletag.cmd.push(function() { googletag.display('div-gpt-ad-1555631981784-0'); });\n\n</script></div></div></div></aside><div id=\"leaderboard\"><div id=\"banner-bottom\"><div id=\"div-gpt-ad-1555630445292-0\"><script type=\"text/javascript\">googletag.cmd.push(function() { googletag.display('div-gpt-ad-1555630445292-0'); });\n\n</script></div></div></div></div><div class=\"srp-ajax-overlay\"><div class=\"book\"><div class=\"page-6\"></div><div class=\"page-5\"></div><div class=\"page-4\"></div><div class=\"page-3\"></div><div class=\"page-2\"></div><div class=\"page-1\"></div><div class=\"cover\"></div></div></div></div></div><footer class=\"footer-hide\" data-analytics='{\"module\":\"footer\"}' id=\"yp-footer\"><div class=\"container\"><div class=\"row\"><section class=\"yp-links\"><header>About</header><div><a href=\"https://corporate.thryv.com/about/\" rel=\"noopener\" target=\"_blank\" title=\"About Us\">About Us</a><a href=\"/feedback/new\" title=\"Site Feedback\">Site Feedback</a><a href=\"/about/contact-us\" title=\"Contact Us\">Contact Us</a><a data-analytics='{\"click_id\":1064}' href=\"https://marketing.yellowpages.com/en/?from=advertise-with-us-YP\" title=\"Advertise with Us\">Advertise with Us</a><a href=\"http://blog.yp.com/\" rel=\"noopener\" target=\"_blank\" title=\"Corporate Blog\">Corporate Blog</a><span><a href=\"/about/legal\" title=\"Legal Terms of Service and Use\">Legal</a> | <a href=\"/about/legal/terms-conditions\" title=\"Legal Terms of Service and Use\">Terms of Service and Use</a></span><a data-analytics='{\"click_id\":1602}' href=\"https://marketing.yellowpages.com/en/?from=advertise-with-us-YP\" title=\"Small Business Advertising\">Small Business Advertising</a><a data-analytics='{\"click_id\":1348}' href=\"http://optout.networkadvertising.org\" rel=\"noopener\" target=\"_blank\" title=\"Advertising Choices\">Advertising Choices</a></div></section><section class=\"site-directory\"><header>Site Directory</header><a href=\"/articles\" title=\"Articles\">Articles</a><a href=\"/news\" title=\"News\">News</a><a href=\"/\" title=\"Find a Business\">Find a Business</a><a data-analytics='{\"click_id\":1294}' href=\"https://people.yellowpages.com/whitepages\" title=\"White Pages\">White Pages</a><a href=\"/yp-app\" title=\"YP Mobile App\">YP Mobile App</a><a href=\"/gas-guru-app\" title=\"Gas Guru Mobile App\">Gas Guru Mobile App</a><a href=\"https://people.yellowpages.com/whitepages/phone-lookup\" title=\"Reverse Phone Lookup\">Reverse Phone Lookup</a><a href=\"/sitemap\" title=\"Site Map\">Site Map</a><a data-analytics='{\"click_id\":534}' href=\"/restaurants/browse\" title=\"Browse Restaurants\">Browse Restaurants</a></section><section class=\"city-guides\"><header>City Guides<a href=\"/sitemap\">More Cities »</a></header><div><a href=\"/atlanta-ga\">Atlanta</a><a href=\"/austin-tx\">Austin</a><a href=\"/baltimore-md\">Baltimore</a><a href=\"/boston-ma\">Boston</a><a href=\"/charlotte-nc\">Charlotte</a><a href=\"/chicago-il\">Chicago</a><a href=\"/dallas-tx\">Dallas</a><a href=\"/denver-co\">Denver</a></div><div><a href=\"/detroit-mi\">Detroit</a><a href=\"/houston-tx\">Houston</a><a href=\"/indianapolis-in\">Indianapolis</a><a href=\"/kansas-city-mo\">Kansas City</a><a href=\"/las-vegas-nv\">Las Vegas</a><a href=\"/los-angeles-ca\">Los Angeles</a><a href=\"/louisville-ky\">Louisville</a><a href=\"/memphis-tn\">Memphis</a></div><div><a href=\"/miami-fl\">Miami</a><a href=\"/milwaukee-wi\">Milwaukee</a><a href=\"/new-york-ny\">New York</a><a href=\"/oklahoma-city-ok\">Oklahoma City</a><a href=\"/orlando-fl\">Orlando</a><a href=\"/philadelphia-pa\">Philadelphia</a><a href=\"/phoenix-az\">Phoenix</a><a href=\"/saint-louis-mo\">Saint Louis</a></div></section><section class=\"corporate-family\"><header>YP<sup>SM</sup> Family</header><a href=\"https://corporate.thryv.com\" rel=\"noopener\" target=\"_blank\" title=\"Corporate Site\">Corporate Site</a><a data-analytics='{\"click_id\":458}' href=\"https://marketing.yellowpages.com/en/?from=advertise-with-us-YP\" title=\"Marketing Solutions\">Marketing Solutions</a><a href=\"https://www.anywho.com\" rel=\"noopener\" target=\"_blank\" title=\"AnyWho\">AnyWho</a></section></div><div class=\"social-links row\"><a class=\"facebook\" data-analytics='{\"click_id\":2363}' href=\"https://facebook.com/yp\" rel=\"nofollow noopener\" target=\"_blank\" title=\"Like YP on Facebook\">Like us on Facebook</a><a class=\"twitter\" data-analytics='{\"click_id\":2364}' href=\"https://twitter.com/YP\" rel=\"nofollow noopener\" target=\"_blank\" title=\"Follow YP on Twitter\">Follow us on Twitter</a></div><div class=\"added-links\"><a href=\"https://corporate.thryv.com/privacy/\" rel=\"noopener\" title=\"Privacy Policy\">Privacy Policy</a><span class=\"vert\">&amp;vert</span><a href=\"/about/ccpa-yp\" title=\"Do Not Sell My Personal Information\">Do Not Sell My Personal Information</a></div><div class=\"fineprint row\"><p>© 2021 Thryv, Inc. All rights reserved.</p><p>YP, the YP logo and all other YP marks contained herein are trademarks of YP LLC and/or YP affiliated companies.</p><p>All other marks contained herein are the property of their respective owners.</p></div></div></footer><script async=\"\" src=\"//i1.ypcdn.com/ypu/vendor/shared.bundle.js?05601dc\" type=\"text/javascript\"></script><script>/*! LAB.js (LABjs :: Loading And Blocking JavaScript)\n    v2.0.3 (c) Kyle Simpson\n    MIT License\n*/\n(function(o){var K=o.$LAB,y=\"UseLocalXHR\",z=\"AlwaysPreserveOrder\",u=\"AllowDuplicates\",A=\"CacheBust\",B=\"BasePath\",C=/^[^?#]*\\//.exec(location.href)[0],D=/^\\w+\\:\\/\\/\\/?[^\\/]+/.exec(C)[0],i=document.head||document.getElementsByTagName(\"head\"),L=(o.opera&&Object.prototype.toString.call(o.opera)==\"[object Opera]\")||(\"MozAppearance\"in document.documentElement.style),q=document.createElement(\"script\"),E=typeof q.preload==\"boolean\",r=E||(q.readyState&&q.readyState==\"uninitialized\"),F=!r&&q.async===true,M=!r&&!F&&!L;function G(a){return Object.prototype.toString.call(a)==\"[object Function]\"}function H(a){return Object.prototype.toString.call(a)==\"[object Array]\"}function N(a,c){var b=/^\\w+\\:\\/\\//;if(/^\\/\\/\\/?/.test(a)){a=location.protocol+a}else if(!b.test(a)&&a.charAt(0)!=\"/\"){a=(c||\"\")+a}return b.test(a)?a:((a.charAt(0)==\"/\"?D:C)+a)}function s(a,c){for(var b in a){if(a.hasOwnProperty(b)){c[b]=a[b]}}return c}function O(a){var c=false;for(var b=0;b<a.scripts.length;b++){if(a.scripts[b].ready&&a.scripts[b].exec_trigger){c=true;a.scripts[b].exec_trigger();a.scripts[b].exec_trigger=null}}return c}function t(a,c,b,d){a.onload=a.onreadystatechange=function(){if((a.readyState&&a.readyState!=\"complete\"&&a.readyState!=\"loaded\")||c[b])return;a.onload=a.onreadystatechange=null;d()}}function I(a){a.ready=a.finished=true;for(var c=0;c<a.finished_listeners.length;c++){a.finished_listeners[c]()}a.ready_listeners=[];a.finished_listeners=[]}function P(d,f,e,g,h){setTimeout(function(){var a,c=f.real_src,b;if(\"item\"in i){if(!i[0]){setTimeout(arguments.callee,25);return}i=i[0]}a=document.createElement(\"script\");if(f.type)a.type=f.type;if(f.charset)a.charset=f.charset;if(h){if(r){e.elem=a;if(E){a.preload=true;a.onpreload=g}else{a.onreadystatechange=function(){if(a.readyState==\"loaded\")g()}}a.src=c}else if(h&&c.indexOf(D)==0&&d[y]){b=new XMLHttpRequest();b.onreadystatechange=function(){if(b.readyState==4){b.onreadystatechange=function(){};e.text=b.responseText+\"\\n//@ sourceURL=\"+c;g()}};b.open(\"GET\",c);b.send()}else{a.type=\"text/cache-script\";t(a,e,\"ready\",function(){i.removeChild(a);g()});a.src=c;i.insertBefore(a,i.firstChild)}}else if(F){a.async=false;t(a,e,\"finished\",g);a.src=c;i.insertBefore(a,i.firstChild)}else{t(a,e,\"finished\",g);a.src=c;i.insertBefore(a,i.firstChild)}},0)}function J(){var l={},Q=r||M,n=[],p={},m;l[y]=true;l[z]=false;l[u]=false;l[A]=false;l[B]=\"\";function R(a,c,b){var d;function f(){if(d!=null){d=null;I(b)}}if(p[c.src].finished)return;if(!a[u])p[c.src].finished=true;d=b.elem||document.createElement(\"script\");if(c.type)d.type=c.type;if(c.charset)d.charset=c.charset;t(d,b,\"finished\",f);if(b.elem){b.elem=null}else if(b.text){d.onload=d.onreadystatechange=null;d.text=b.text}else{d.src=c.real_src}i.insertBefore(d,i.firstChild);if(b.text){f()}}function S(c,b,d,f){var e,g,h=function(){b.ready_cb(b,function(){R(c,b,e)})},j=function(){b.finished_cb(b,d)};b.src=N(b.src,c[B]);b.real_src=b.src+(c[A]?((/\\?.*$/.test(b.src)?\"&_\":\"?_\")+~~(Math.random()*1E9)+\"=\"):\"\");if(!p[b.src])p[b.src]={items:[],finished:false};g=p[b.src].items;if(c[u]||g.length==0){e=g[g.length]={ready:false,finished:false,ready_listeners:[h],finished_listeners:[j]};P(c,b,e,((f)?function(){e.ready=true;for(var a=0;a<e.ready_listeners.length;a++){e.ready_listeners[a]()}e.ready_listeners=[]}:function(){I(e)}),f)}else{e=g[0];if(e.finished){j()}else{e.finished_listeners.push(j)}}}function v(){var e,g=s(l,{}),h=[],j=0,w=false,k;function T(a,c){a.ready=true;a.exec_trigger=c;x()}function U(a,c){a.ready=a.finished=true;a.exec_trigger=null;for(var b=0;b<c.scripts.length;b++){if(!c.scripts[b].finished)return}c.finished=true;x()}function x(){while(j<h.length){if(G(h[j])){try{h[j++]()}catch(err){}continue}else if(!h[j].finished){if(O(h[j]))continue;break}j++}if(j==h.length){w=false;k=false}}function V(){if(!k||!k.scripts){h.push(k={scripts:[],finished:true})}}e={script:function(){for(var f=0;f<arguments.length;f++){(function(a,c){var b;if(!H(a)){c=[a]}for(var d=0;d<c.length;d++){V();a=c[d];if(G(a))a=a();if(!a)continue;if(H(a)){b=[].slice.call(a);b.unshift(d,1);[].splice.apply(c,b);d--;continue}if(typeof a==\"string\")a={src:a};a=s(a,{ready:false,ready_cb:T,finished:false,finished_cb:U});k.finished=false;k.scripts.push(a);S(g,a,k,(Q&&w));w=true;if(g[z])e.wait()}})(arguments[f],arguments[f])}return e},wait:function(){if(arguments.length>0){for(var a=0;a<arguments.length;a++){h.push(arguments[a])}k=h[h.length-1]}else k=false;x();return e}};return{script:e.script,wait:e.wait,setOptions:function(a){s(a,g);return e}}}m={setGlobalDefaults:function(a){s(a,l);return m},setOptions:function(){return v().setOptions.apply(null,arguments)},script:function(){return v().script.apply(null,arguments)},wait:function(){return v().wait.apply(null,arguments)},queueScript:function(){n[n.length]={type:\"script\",args:[].slice.call(arguments)};return m},queueWait:function(){n[n.length]={type:\"wait\",args:[].slice.call(arguments)};return m},runQueue:function(){var a=m,c=n.length,b=c,d;for(;--b>=0;){d=n.shift();a=a[d.type].apply(null,d.args)}return a},noConflict:function(){o.$LAB=K;return m},sandbox:function(){return J()}};return m}o.$LAB=J();(function(a,c,b){if(document.readyState==null&&document[a]){document.readyState=\"loading\";document[a](c,b=function(){document.removeEventListener(c,b,false);document.readyState=\"complete\"},false)}})(\"addEventListener\",\"DOMContentLoaded\")})(this);</script><script>(function () {\n    function loadDeferredScripts() {\n        var js = [\"//i2.ypcdn.com/ypu/js/compiled/srp.js?05601dc\"];\n        for (var i = 0; i < js.length; i++) {\n            var el = document.createElement('script');\n            el.src = js[i];\n            document.body.appendChild(el);\n        }\n    }\n    if (window.addEventListener) {\n        window.addEventListener('load', loadDeferredScripts, false);\n    } else if (window.attachEvent) {\n        window.attachEvent('onload', loadDeferredScripts);\n    } else {\n        window.onload = loadDeferredScripts;\n    }\n})();</script><script type=\"application/ld+json\">{\"@context\":\"http://schema.org\",\"@type\":\"BreadcrumbList\",\"itemListElement\":[{\"@type\":\"ListItem\",\"position\":1,\"item\":{\"@id\":\"/\",\"name\":\"Home\"}},{\"@type\":\"ListItem\",\"position\":2,\"item\":{\"@id\":\"/san-francisco-ca\",\"name\":\"San Francisco, CA\"}},{\"@type\":\"ListItem\",\"position\":3,\"item\":{\"@id\":\"/san-francisco-ca/dentists\",\"name\":\"Dentists\"}}]}</script><script type=\"application/ld+json\">{\"@context\":\"https://schema.org\",\"@type\":\"CollectionPage\",\"accessMode\":\"auditory, tactile, textual, visual, textOnVisual\",\"publisher\":\"Yellow Pages\",\"mainEntity\":{\"@type\":\"ItemList\",\"itemListElement\":[{\"@type\":\"ItemPage\",\"name\":\"Schulz John W DDS\",\"url\":\"https://www.yellowpages.com/san-francisco-ca/mip/schulz-john-w-dds-455016114?lid=171578901\"},{\"@type\":\"ItemPage\",\"name\":\"Chin, Gayle A DDS\",\"url\":\"https://www.yellowpages.com/san-francisco-ca/mip/chin-gayle-a-dds-1486858?lid=1001130429941\"},{\"@type\":\"ItemPage\",\"name\":\"Jacobson, Theodore E DDS\",\"url\":\"https://www.yellowpages.com/san-francisco-ca/mip/jacobson-theodore-e-dds-1565357?lid=1001637354686\"},{\"@type\":\"ItemPage\",\"name\":\"Choi Richard DMD\",\"url\":\"https://www.yellowpages.com/san-francisco-ca/mip/choi-richard-dmd-14871324?lid=1001637354680\"},{\"@type\":\"ItemPage\",\"name\":\"San Francisco Endodontics\",\"url\":\"https://www.yellowpages.com/san-francisco-ca/mip/san-francisco-endodontics-2187299?lid=1001637354611\"},{\"@type\":\"ItemPage\",\"name\":\"Wong, Ralan DDS MS\",\"url\":\"https://www.yellowpages.com/san-francisco-ca/mip/wong-ralan-dds-ms-2195731?lid=1002016330450\"},{\"@type\":\"ItemPage\",\"name\":\"Melitas Euridice A DDS\",\"url\":\"https://www.yellowpages.com/san-francisco-ca/mip/melitas-euridice-a-dds-10828674?lid=1002003458975\"},{\"@type\":\"ItemPage\",\"name\":\"Gabany, Joseph A R DMD MSD\",\"url\":\"https://www.yellowpages.com/san-francisco-ca/mip/gabany-joseph-a-r-dmd-msd-9604725?lid=1001637354638\"},{\"@type\":\"ItemPage\",\"name\":\"Gilberto A Gonzalez DDS\",\"url\":\"https://www.yellowpages.com/san-francisco-ca/mip/gilberto-a-gonzalez-dds-2281412?lid=1001637354621\"},{\"@type\":\"ItemPage\",\"name\":\"Wagnild & Mueller\",\"url\":\"https://www.yellowpages.com/san-francisco-ca/mip/wagnild-mueller-471933462?lid=1001637350264\"},{\"@type\":\"ItemPage\",\"name\":\"Mercedes L Tan\",\"url\":\"https://www.yellowpages.com/san-francisco-ca/mip/mercedes-l-tan-22921753?lid=1001637354561\"},{\"@type\":\"ItemPage\",\"name\":\"Soderstrom, Susan DDS MS\",\"url\":\"https://www.yellowpages.com/san-francisco-ca/mip/soderstrom-susan-dds-ms-11159746?lid=1001637354622\"},{\"@type\":\"ItemPage\",\"name\":\"Song Oral Surgery\",\"url\":\"https://www.yellowpages.com/san-francisco-ca/mip/song-oral-surgery-461714624?lid=1001973291887\"},{\"@type\":\"ItemPage\",\"name\":\"Jang Gail C & Corey L DDS\",\"url\":\"https://www.yellowpages.com/san-francisco-ca/mip/jang-gail-c-corey-l-dds-6058924?lid=1000678956049\"},{\"@type\":\"ItemPage\",\"name\":\"Cosmetic Dentist Joshua Bernstein DDS\",\"url\":\"https://www.yellowpages.com/san-francisco-ca/mip/cosmetic-dentist-joshua-bernstein-dds-12486217?lid=1000890492268\"},{\"@type\":\"ItemPage\",\"name\":\"H Katz Raymond DMD\",\"url\":\"https://www.yellowpages.com/san-francisco-ca/mip/h-katz-raymond-dmd-5290730?lid=1001358856887\"},{\"@type\":\"ItemPage\",\"name\":\"Wesley Chang DDS\",\"url\":\"https://www.yellowpages.com/san-francisco-ca/mip/wesley-chang-dds-461719095?lid=1001177309719\"},{\"@type\":\"ItemPage\",\"name\":\"Kenneth G Louie DDS MA\",\"url\":\"https://www.yellowpages.com/san-francisco-ca/mip/kenneth-g-louie-dds-ma-3664733?lid=1001520223479\"},{\"@type\":\"ItemPage\",\"name\":\"Itani Dental San Francisco\",\"url\":\"https://www.yellowpages.com/san-francisco-ca/mip/itani-dental-san-francisco-468187939?lid=1000437174647\"},{\"@type\":\"ItemPage\",\"name\":\"Parrett, Michael DDS\",\"url\":\"https://www.yellowpages.com/san-francisco-ca/mip/parrett-michael-dds-6965364?lid=1000597598082\"},{\"@type\":\"ItemPage\",\"name\":\"Dr. Terri T Nguyen, DDS\",\"url\":\"https://www.yellowpages.com/san-francisco-ca/mip/dr-terri-t-nguyen-dds-524742222\"},{\"@type\":\"ItemPage\",\"name\":\"Derrick Owen Co Chua, DMD\",\"url\":\"https://www.yellowpages.com/san-francisco-ca/mip/derrick-owen-co-chua-dmd-548469360\"},{\"@type\":\"ItemPage\",\"name\":\"Mohamed Ali, DDS\",\"url\":\"https://www.yellowpages.com/san-francisco-ca/mip/mohamed-ali-dds-455117804\"},{\"@type\":\"ItemPage\",\"name\":\"Stanley Siu DDS\",\"url\":\"https://www.yellowpages.com/san-francisco-ca/mip/stanley-siu-dds-23254843\"},{\"@type\":\"ItemPage\",\"name\":\"Wayne W Lee Dds And Associates\",\"url\":\"https://www.yellowpages.com/san-francisco-ca/mip/wayne-w-lee-dds-and-associates-1764937\"},{\"@type\":\"ItemPage\",\"name\":\"Mieger, Lynn DDS\",\"url\":\"https://www.yellowpages.com/san-francisco-ca/mip/mieger-lynn-dds-472748713\"},{\"@type\":\"ItemPage\",\"name\":\"Steven J Baldwin, DDS and Cynthia Scipioni, DDS\",\"url\":\"https://www.yellowpages.com/san-francisco-ca/mip/steven-j-baldwin-dds-and-cynthia-scipioni-dds-459042600\"},{\"@type\":\"ItemPage\",\"name\":\"W Tawfik Sahar DDS\",\"url\":\"https://www.yellowpages.com/san-francisco-ca/mip/w-tawfik-sahar-dds-465273624\"},{\"@type\":\"ItemPage\",\"name\":\"Vo Katherine DDS\",\"url\":\"https://www.yellowpages.com/san-francisco-ca/mip/vo-katherine-dds-467602957\"},{\"@type\":\"ItemPage\",\"name\":\"Advanced Dental Care\",\"url\":\"https://www.yellowpages.com/san-francisco-ca/mip/advanced-dental-care-462023750\"}]}}</script><script type=\"application/ld+json\">{\"@context\":\"http://schema.org\",\"@type\":\"Place\",\"geo\":{\"@type\":\"GeoCoordinates\",\"latitude\":37.7749295,\"longitude\":-122.4194155}}</script><script type=\"text/javascript\">var _pxy= \"C=111&H=8008970&TERM=dentists&wpage=SERP\"</script><script>(function () {\n    function loadDeferredScripts() {\n        var js = [\"//i1.ypcdn.com/pixy/pixy.js?05601dc\"];\n        for (var i = 0; i < js.length; i++) {\n            var el = document.createElement('script');\n            el.src = js[i];\n            document.body.appendChild(el);\n        }\n    }\n    if (window.addEventListener) {\n        window.addEventListener('load', loadDeferredScripts, false);\n    } else if (window.attachEvent) {\n        window.attachEvent('onload', loadDeferredScripts);\n    } else {\n        window.onload = loadDeferredScripts;\n    }\n})();</script><img alt=\"\" class=\"beacon\" height=\"1\" src=\"https://c.ypcdn.com/ta1/ba818ce2-6423-4696-af35-4b6bcf812ef7\" width=\"1\"/><script>(function() {\n    function sendNewRelicPerformanceMetrics() {\n        // normalize the browsers\n        const performance = window.performance || window.webkitPerformance || window.msPerformance || window.mozPerformance;\n        const timing = performance.timing;\n        const metrics = {};\n        // IE bug https://gist.github.com/acdha/365f7bc0e10d2e7b7865\n        if (!timing.navigationStart) {\n            return;\n        }\n\n        // Timestamp for the request start\n        metrics.navigationStart = timing.navigationStart;\n        // Time To First Byte\n        metrics.timeToFirstByte = timing.responseStart - timing.navigationStart;\n\n        // Timestamp and duration of First Paint For Chrome\n        if (window.chrome && window.performance) {\n            let performanceEntries = performance.getEntriesByType('paint');\n\n            metrics.timeToFirstPaint = Math.round(performanceEntries[1].startTime);\n            metrics.firstPaint = metrics.timeToFirstPaint + metrics.navigationStart\n        }\n\n        // Timestamp and duration of First Paint For IE\n        else if (typeof timing.msFirstPaint === 'number') {\n            metrics.firstPaint = timing.msFirstPaint;\n            metrics.timeToFirstPaint = timing.msFirstPaint- timing.navigationStart;\n        }\n\n        // Time To Dom Interactive\n        if (timing.domInteractive) {\n            metrics.timeToDomInteractive = timing.domInteractive - timing.navigationStart;\n        }\n\n        if (typeof newrelic == 'object') {\n            newrelic.addPageAction('timings', metrics);\n        }\n    }\n    window.addEventListener('load', sendNewRelicPerformanceMetrics, false);\n})();</script></body>\n<!--\nversion: 5.26.3-3118\nbuilt_by: nextgen\nbuilt_on: Fri Jan 15 19:08:04 UTC 2021\nbuild_host: consumer15-bamboo.prod.st1\ndeployed_at: Fri Jan 15 23:51:22 UTC 2021\ndeployed_by: root\nscm_rev: 05601dc\nypu_parent: prod\nypu_env: prod_ev1\nnode_env: production\nhostname: ypu47.ev1\n\n--></html>\n"
     ]
    }
   ],
   "source": [
    "#import python libraries\n",
    "from bs4 import BeautifulSoup #to parse the page and search for specific elements\n",
    "import requests #to connect to the web\n",
    "import re #regular expression\n",
    "import urllib.request #download images from the urls\n",
    "import pandas as pd\n",
    "from pandas import DataFrame\n",
    "#request with python beautifulsoup using URL,RESPONSE AND SOUPCONTENT\n",
    "url = \"https://www.yellowpages.com/search?search_terms=dentists&geo_location_terms=San+Francisco%2C+CA\"\n",
    "try:\n",
    "    response = requests.get(url)\n",
    "    soupcontent = BeautifulSoup(response.content, 'html.parser') #prints out the pagesource\n",
    "    print(soupcontent)\n",
    "except:\n",
    "    raise"
   ]
  },
  {
   "cell_type": "code",
   "execution_count": 8,
   "metadata": {
    "tags": [
     "outputPrepend"
    ]
   },
   "outputs": [
    {
     "output_type": "stream",
     "name": "stdout",
     "text": [
      "-bd75-28ca7cd6b6e1\",\"listing_id\":\"1764937\",\"item_id\":-1,\"listing_type\":\"free\",\"ypid\":\"1764937\",\"content_provider\":\"MDM\",\"srid\":\"L-webyp-e3de0f2e-daa9-4d97-ad47-861e89262a70-1764937\",\"item_type\":\"DOC\",\"lhc\":\"8008970\",\"ldir\":\"SF\",\"rate\":4.98,\"hasTripAdvisor\":false,\"mip_claimed_status\":\"mip_unclaimed\",\"mip_ypid\":\"1764937\",\"click_id\":523,\"listing_features\":\"scheduling\"}' href=\"https://patients.doctor.com/directAppointment?provider=538372&amp;partner=YP\" rel=\"nofollow noopener\" target=\"_blank\"><svg xmlns=\"http://www.w3.org/2000/svg\"><use xlink:href=\"#make-an-appointment\"></use></svg>Make an Appointment</a></div></div></div></div></div>, <div class=\"result\" data-analytics='{\"adclick\":true,\"events\":\"event7,event6\",\"category\":\"8008970\",\"impression_id\":\"cc120329-3618-4f0e-a082-aa5a0800995d\",\"listing_id\":\"472748713\",\"item_id\":-1,\"listing_type\":\"free\",\"ypid\":\"472748713\",\"content_provider\":\"MDM\",\"srid\":\"L-webyp-e3de0f2e-daa9-4d97-ad47-861e89262a70-472748713\",\"item_type\":\"listing\",\"lhc\":\"8008970\",\"ldir\":\"SF\",\"rate\":5,\"hasTripAdvisor\":false,\"mip_claimed_status\":\"mip_unclaimed\",\"mip_ypid\":\"472748713\",\"rating\":\"free\",\"listing_index\":26,\"tier\":999,\"poi\":26,\"rank\":26,\"act\":1,\"features\":\"website,reviews,menu,phone\",\"impression\":1,\"content_partner_id\":\"MDM\"}' data-impressionid=\"cc120329-3618-4f0e-a082-aa5a0800995d\" data-ypid=\"472748713\" id=\"lid-472748713\"><div class=\"srp-listing clickable-area mdm\" data-analytics='{\"click_id\":1600,\"category\":\"8008970\",\"tier\":999}' data-bcnt=\"1\"><div class=\"v-card\"><div class=\"media-thumbnail\"><a class=\"media-thumbnail-wrapper default\" data-analytics='{\"click_id\":509}' href=\"/san-francisco-ca/mip/mieger-lynn-dds-472748713\"><img alt=\"Mieger, Lynn DDS\" height=\"100\" src=\"//i4.ypcdn.com/ypu/images/default-thumbnails/thumbnail-1.svg?05601dc\" width=\"100\"/></a></div><div class=\"info\"><h2 class=\"n\">26. <a class=\"business-name\" data-analytics='{\"target\":\"name\",\"feature_click\":\"\"}' href=\"/san-francisco-ca/mip/mieger-lynn-dds-472748713\" rel=\"\"><span>Mieger, Lynn DDS</span></a></h2><div class=\"info-section info-primary\"><div class=\"categories\"><a data-analytics='{\"click_id\":1171,\"adclick\":false,\"listing_features\":\"category\",\"events\":\"\"}' href=\"https://www.yellowpages.com/san-francisco-ca/dentists\">Dentists</a></div><div class=\"ratings\" data-israteable=\"true\"><a class=\"rating\" data-analytics='{\"click_id\":22,\"listing_features\":\"ratings\"}' href=\"/san-francisco-ca/mip/mieger-lynn-dds-472748713#yp-rating\"><div class=\"result-rating five\"><span class=\"count\">(14)</span></div></a></div><div class=\"badges\"><div class=\"years-in-business\"><div class=\"count\"><div class=\"number\">39</div></div><span>YEARS<br/>IN BUSINESS</span></div></div><div class=\"links\"><a class=\"track-visit-website\" data-analytics='{\"click_id\":6,\"act\":2,\"dku\":\"http://www.demandforce.com\",\"FL\":\"url\",\"target\":\"website\",\"LOC\":\"http://www.demandforce.com\",\"adclick\":true,\"iid\":\"cc120329-3618-4f0e-a082-aa5a0800995d\"}' href=\"http://www.demandforce.com\" rel=\"nofollow noopener\" target=\"_blank\">Website</a><a class=\"menu\" data-analytics='{\"click_id\":1614,\"target\":\"menus\",\"listing_features\":\"menu-link\"}' href=\"/listings/472748713/menu?lid=472748713\">Services</a></div></div><div class=\"info-section info-secondary\"><div class=\"phones phone primary\">(415) 781-1944</div><p class=\"adr\"><div class=\"street-address\">115 Sansome St</div><div class=\"locality\">San Francisco, CA 94104</div></p></div><div class=\"snippet\"><figure class=\"color-6\"><svg height=\"16\" viewbox=\"0 0 22 22\" width=\"16\" xmlns=\"http://www.w3.org/2000/svg\"><use xlink:href=\"#default-avatar\"></use></svg></figure><p class=\"body with-avatar\">Dr. Mieger was caring, thorough, patient, and professional before, during, and after my extract and implant procedure. Her office is delightful to…</p></div><div class=\"listing-ctas\"></div></div></div></div></div>, <div class=\"result\" data-analytics='{\"adclick\":true,\"events\":\"event7,event6\",\"category\":\"8008970\",\"impression_id\":\"e0a14bd5-a182-4562-9d45-585808712167\",\"listing_id\":\"459042600\",\"item_id\":-1,\"listing_type\":\"free\",\"ypid\":\"459042600\",\"content_provider\":\"MDM\",\"srid\":\"L-webyp-e3de0f2e-daa9-4d97-ad47-861e89262a70-459042600\",\"item_type\":\"listing\",\"lhc\":\"8008970\",\"ldir\":\"SF\",\"rate\":5,\"hasTripAdvisor\":false,\"mip_claimed_status\":\"mip_unclaimed\",\"mip_ypid\":\"459042600\",\"rating\":\"free\",\"listing_index\":27,\"tier\":999,\"poi\":27,\"rank\":27,\"act\":1,\"features\":\"website,reviews,menu,phone\",\"impression\":1,\"content_partner_id\":\"MDM\"}' data-impressionid=\"e0a14bd5-a182-4562-9d45-585808712167\" data-ypid=\"459042600\" id=\"lid-459042600\"><div class=\"srp-listing clickable-area mdm\" data-analytics='{\"click_id\":1600,\"category\":\"8008970\",\"tier\":999}' data-bcnt=\"0\"><div class=\"v-card\"><div class=\"media-thumbnail\"><a class=\"media-thumbnail-wrapper photo\" data-analytics='{\"click_id\":1499,\"features\":\"photo-gallery\"}' href=\"/san-francisco-ca/mip/steven-j-baldwin-dds-and-cynthia-scipioni-dds-459042600?lid=459042600#gallery\"><img alt=\"Steven J Baldwin, DDS and Cynthia Scipioni, DDS\" asset_type=\"blob_api\" class=\"no-tracks lazy\" data-original=\"https://i1.ypcdn.com/blob/49b8cf2dbd7a4d7ac3e9f9460d04779796e49192_100x100_crop.jpg?05601dc\n\" height=\"100\" src=\"https://i1.ypcdn.com/blob/49b8cf2dbd7a4d7ac3e9f9460d04779796e49192_100x100_crop.jpg?05601dc\n\" width=\"100\"/><noscript><img alt=\"Steven J Baldwin, DDS and Cynthia Scipioni, DDS\" asset_type=\"blob_api\" class=\"csrp\" height=\"100\" src=\"https://i1.ypcdn.com/blob/49b8cf2dbd7a4d7ac3e9f9460d04779796e49192_100x100_crop.jpg?05601dc\n\" width=\"100\"/></noscript></a></div><div class=\"info\"><h2 class=\"n\">27. <a class=\"business-name\" data-analytics='{\"target\":\"name\",\"feature_click\":\"\"}' href=\"/san-francisco-ca/mip/steven-j-baldwin-dds-and-cynthia-scipioni-dds-459042600\" rel=\"\"><span>Steven J Baldwin, DDS and Cynthia Scipioni, DDS</span></a></h2><div class=\"info-section info-primary\"><div class=\"categories\"><a data-analytics='{\"click_id\":1171,\"adclick\":false,\"listing_features\":\"category\",\"events\":\"\"}' href=\"https://www.yellowpages.com/san-francisco-ca/dentists\">Dentists</a></div><div class=\"ratings\" data-israteable=\"true\"><a class=\"rating\" data-analytics='{\"click_id\":22,\"listing_features\":\"ratings\"}' href=\"/san-francisco-ca/mip/steven-j-baldwin-dds-and-cynthia-scipioni-dds-459042600#yp-rating\"><div class=\"result-rating five\"><span class=\"count\">(14)</span></div></a></div><div class=\"badges\"></div><div class=\"links\"><a class=\"track-visit-website\" data-analytics='{\"click_id\":6,\"act\":2,\"dku\":\"http://www.stevenjbaldwindds.com\",\"FL\":\"url\",\"target\":\"website\",\"LOC\":\"http://www.stevenjbaldwindds.com\",\"adclick\":true,\"iid\":\"e0a14bd5-a182-4562-9d45-585808712167\"}' href=\"http://www.stevenjbaldwindds.com\" rel=\"nofollow noopener\" target=\"_blank\">Website</a><a class=\"menu\" data-analytics='{\"click_id\":1614,\"target\":\"menus\",\"listing_features\":\"menu-link\"}' href=\"/listings/459042600/menu?lid=459042600\">Services</a></div></div><div class=\"info-section info-secondary\"><div class=\"phones phone primary\">(415) 387-7711</div><p class=\"adr\"><div class=\"street-address\">4339 Balboa St</div><div class=\"locality\">San Francisco, CA 94121</div></p></div><div class=\"snippet\"><figure class=\"color-5\"><svg height=\"16\" viewbox=\"0 0 22 22\" width=\"16\" xmlns=\"http://www.w3.org/2000/svg\"><use xlink:href=\"#default-avatar\"></use></svg></figure><p class=\"body with-avatar\">Excellent. I was hesitant on not having been to the dentist in a while, but he was relaxed, pleasant and professional. Will go to again.</p></div><div class=\"listing-ctas\"></div></div></div></div></div>, <div class=\"result\" data-analytics='{\"adclick\":true,\"events\":\"event7,event6\",\"category\":\"8008970\",\"impression_id\":\"5d2ef1c1-b9ce-4d68-9c7d-96e6af05f59e\",\"listing_id\":\"465273624\",\"item_id\":-1,\"listing_type\":\"free\",\"ypid\":\"465273624\",\"content_provider\":\"MDM\",\"srid\":\"L-webyp-e3de0f2e-daa9-4d97-ad47-861e89262a70-465273624\",\"item_type\":\"listing\",\"lhc\":\"8008970\",\"ldir\":\"SF\",\"rate\":4.92,\"hasTripAdvisor\":false,\"mip_claimed_status\":\"mip_unclaimed\",\"mip_ypid\":\"465273624\",\"rating\":\"free\",\"listing_index\":28,\"tier\":999,\"poi\":28,\"rank\":28,\"act\":1,\"features\":\"website,reviews,phone,scheduling-doc\",\"impression\":1,\"content_partner_id\":\"MDM\"}' data-impressionid=\"5d2ef1c1-b9ce-4d68-9c7d-96e6af05f59e\" data-ypid=\"465273624\" id=\"lid-465273624\"><div class=\"srp-listing clickable-area mdm\" data-analytics='{\"click_id\":1600,\"category\":\"8008970\",\"tier\":999}' data-bcnt=\"0\"><div class=\"v-card\"><div class=\"media-thumbnail\"><a class=\"media-thumbnail-wrapper photo\" data-analytics='{\"click_id\":1499,\"features\":\"photo-gallery\"}' href=\"/san-francisco-ca/mip/w-tawfik-sahar-dds-465273624?lid=465273624#gallery\"><img alt=\"W Tawfik Sahar DDS\" asset_type=\"blob_api\" class=\"no-tracks lazy\" data-original=\"https://i1.ypcdn.com/blob/9c944522dbf8fd39fe336ae71585b5cdd02280b4_100x100_crop.jpg?05601dc\n\" height=\"100\" src=\"https://i1.ypcdn.com/blob/9c944522dbf8fd39fe336ae71585b5cdd02280b4_100x100_crop.jpg?05601dc\n\" width=\"100\"/><noscript><img alt=\"W Tawfik Sahar DDS\" asset_type=\"blob_api\" class=\"csrp\" height=\"100\" src=\"https://i1.ypcdn.com/blob/9c944522dbf8fd39fe336ae71585b5cdd02280b4_100x100_crop.jpg?05601dc\n\" width=\"100\"/></noscript></a></div><div class=\"info\"><h2 class=\"n\">28. <a class=\"business-name\" data-analytics='{\"target\":\"name\",\"feature_click\":\"\"}' href=\"/san-francisco-ca/mip/w-tawfik-sahar-dds-465273624\" rel=\"\"><span>W Tawfik Sahar DDS</span></a></h2><div class=\"info-section info-primary\"><div class=\"categories\"><a data-analytics='{\"click_id\":1171,\"adclick\":false,\"listing_features\":\"category\",\"events\":\"\"}' href=\"https://www.yellowpages.com/san-francisco-ca/dentists\">Dentists</a><a data-analytics='{\"click_id\":1171,\"adclick\":false,\"listing_features\":\"category\",\"events\":\"\"}' href=\"https://www.yellowpages.com/san-francisco-ca/oral-maxillofacial-surgery\">Oral &amp; Maxillofacial Surgery</a></div><div class=\"ratings\" data-israteable=\"true\"><a class=\"rating\" data-analytics='{\"click_id\":22,\"listing_features\":\"ratings\"}' href=\"/san-francisco-ca/mip/w-tawfik-sahar-dds-465273624#yp-rating\"><div class=\"result-rating five\"><span class=\"count\">(13)</span></div></a></div><div class=\"badges\"><div class=\"years-in-business\"><div class=\"count\"><div class=\"number\">10</div></div><span>YEARS<br/>IN PRACTICE</span></div></div><div class=\"links\"><a class=\"track-visit-website\" data-analytics='{\"click_id\":6,\"act\":2,\"dku\":\"http://www.operaplazadentistry.com/errors/errorInactive.html\",\"FL\":\"url\",\"target\":\"website\",\"LOC\":\"http://www.operaplazadentistry.com/errors/errorInactive.html\",\"adclick\":true,\"iid\":\"5d2ef1c1-b9ce-4d68-9c7d-96e6af05f59e\"}' href=\"http://www.operaplazadentistry.com/errors/errorInactive.html\" rel=\"nofollow noopener\" target=\"_blank\">Website</a></div></div><div class=\"info-section info-secondary\"><div class=\"phones phone primary\">(415) 441-4933</div><p class=\"adr\"><div class=\"street-address\">601 Van Ness Ave Ste 2020</div><div class=\"locality\">San Francisco, CA 94102</div></p></div><div class=\"snippet\"><figure class=\"color-2\"><svg height=\"16\" viewbox=\"0 0 22 22\" width=\"16\" xmlns=\"http://www.w3.org/2000/svg\"><use xlink:href=\"#default-avatar\"></use></svg></figure><p class=\"body with-avatar\">Warm and amicable, knowledgeable and professional with a convenient location, state of the art equipment and flexible payment options. I think Dr.…</p></div><div class=\"listing-ctas\"><a class=\"action make-an-appointment doctor-cta-btn\" data-analytics='{\"adclick\":true,\"events\":\"event7,event6\",\"category\":\"8008970\",\"impression_id\":\"5d2ef1c1-b9ce-4d68-9c7d-96e6af05f59e\",\"listing_id\":\"465273624\",\"item_id\":-1,\"listing_type\":\"free\",\"ypid\":\"465273624\",\"content_provider\":\"MDM\",\"srid\":\"L-webyp-e3de0f2e-daa9-4d97-ad47-861e89262a70-465273624\",\"item_type\":\"DOC\",\"lhc\":\"8008970\",\"ldir\":\"SF\",\"rate\":4.92,\"hasTripAdvisor\":false,\"mip_claimed_status\":\"mip_unclaimed\",\"mip_ypid\":\"465273624\",\"click_id\":523,\"listing_features\":\"scheduling\"}' href=\"https://patients.doctor.com/directAppointment?provider=3137238&amp;partner=YP\" rel=\"nofollow noopener\" target=\"_blank\"><svg xmlns=\"http://www.w3.org/2000/svg\"><use xlink:href=\"#make-an-appointment\"></use></svg>Make an Appointment</a></div></div></div></div></div>, <div class=\"result\" data-analytics='{\"adclick\":true,\"events\":\"event7,event6\",\"category\":\"8008970\",\"impression_id\":\"cfd105bf-66aa-4ac4-96c1-9b41244cd355\",\"listing_id\":\"467602957\",\"item_id\":-1,\"listing_type\":\"free\",\"ypid\":\"467602957\",\"content_provider\":\"MDM\",\"srid\":\"L-webyp-e3de0f2e-daa9-4d97-ad47-861e89262a70-467602957\",\"item_type\":\"listing\",\"lhc\":\"8008970\",\"ldir\":\"SF\",\"rate\":5,\"hasTripAdvisor\":false,\"mip_claimed_status\":\"mip_unclaimed\",\"mip_ypid\":\"467602957\",\"rating\":\"free\",\"listing_index\":29,\"tier\":999,\"poi\":29,\"rank\":29,\"act\":1,\"features\":\"website,reviews,phone,scheduling-doc\",\"impression\":1,\"content_partner_id\":\"MDM\"}' data-impressionid=\"cfd105bf-66aa-4ac4-96c1-9b41244cd355\" data-ypid=\"467602957\" id=\"lid-467602957\"><div class=\"srp-listing clickable-area mdm\" data-analytics='{\"click_id\":1600,\"category\":\"8008970\",\"tier\":999}' data-bcnt=\"0\"><div class=\"v-card\"><div class=\"media-thumbnail\"><a class=\"media-thumbnail-wrapper photo\" data-analytics='{\"click_id\":1499,\"features\":\"photo-gallery\"}' href=\"/san-francisco-ca/mip/vo-katherine-dds-467602957?lid=467602957#gallery\"><img alt=\"Vo Katherine DDS\" asset_type=\"blob_api\" class=\"no-tracks lazy\" data-original=\"https://i1.ypcdn.com/blob/e9fe1f8de540a5c9c58ac7277c70f940f699d7f0_100x100_crop.jpg?05601dc\n\" height=\"100\" src=\"https://i1.ypcdn.com/blob/e9fe1f8de540a5c9c58ac7277c70f940f699d7f0_100x100_crop.jpg?05601dc\n\" width=\"100\"/><noscript><img alt=\"Vo Katherine DDS\" asset_type=\"blob_api\" class=\"csrp\" height=\"100\" src=\"https://i1.ypcdn.com/blob/e9fe1f8de540a5c9c58ac7277c70f940f699d7f0_100x100_crop.jpg?05601dc\n\" width=\"100\"/></noscript></a></div><div class=\"info\"><h2 class=\"n\">29. <a class=\"business-name\" data-analytics='{\"target\":\"name\",\"feature_click\":\"\"}' href=\"/san-francisco-ca/mip/vo-katherine-dds-467602957\" rel=\"\"><span>Vo Katherine DDS</span></a></h2><div class=\"info-section info-primary\"><div class=\"categories\"><a data-analytics='{\"click_id\":1171,\"adclick\":false,\"listing_features\":\"category\",\"events\":\"\"}' href=\"https://www.yellowpages.com/san-francisco-ca/dentists\">Dentists</a><a data-analytics='{\"click_id\":1171,\"adclick\":false,\"listing_features\":\"category\",\"events\":\"\"}' href=\"https://www.yellowpages.com/san-francisco-ca/oral-maxillofacial-surgery\">Oral &amp; Maxillofacial Surgery</a></div><div class=\"ratings\" data-israteable=\"true\"><a class=\"rating\" data-analytics='{\"click_id\":22,\"listing_features\":\"ratings\"}' href=\"/san-francisco-ca/mip/vo-katherine-dds-467602957#yp-rating\"><div class=\"result-rating five\"><span class=\"count\">(12)</span></div></a></div><div class=\"badges\"><div class=\"years-in-business\"><div class=\"count\"><div class=\"number\">16</div></div><span>YEARS<br/>IN PRACTICE</span></div></div><div class=\"links\"><a class=\"track-visit-website\" data-analytics='{\"click_id\":6,\"act\":2,\"dku\":\"http://www.kvodental.com\",\"FL\":\"url\",\"target\":\"website\",\"LOC\":\"http://www.kvodental.com\",\"adclick\":true,\"iid\":\"cfd105bf-66aa-4ac4-96c1-9b41244cd355\"}' href=\"http://www.kvodental.com\" rel=\"nofollow noopener\" target=\"_blank\">Website</a></div></div><div class=\"info-section info-secondary\"><div class=\"phones phone primary\">(415) 397-1004</div><p class=\"adr\"><div class=\"street-address\">450 Sutter St</div><div class=\"locality\">San Francisco, CA 94108</div></p></div><div class=\"snippet\"><figure class=\"color-2\"><svg height=\"16\" viewbox=\"0 0 22 22\" width=\"16\" xmlns=\"http://www.w3.org/2000/svg\"><use xlink:href=\"#default-avatar\"></use></svg></figure><p class=\"body with-avatar\">seriously one of the best dental experiences i've ever had, she has all of the latest technology, a wonderful staff : Ana and JR are the greatest!…</p></div><div class=\"listing-ctas\"><a class=\"action make-an-appointment doctor-cta-btn\" data-analytics='{\"adclick\":true,\"events\":\"event7,event6\",\"category\":\"8008970\",\"impression_id\":\"cfd105bf-66aa-4ac4-96c1-9b41244cd355\",\"listing_id\":\"467602957\",\"item_id\":-1,\"listing_type\":\"free\",\"ypid\":\"467602957\",\"content_provider\":\"MDM\",\"srid\":\"L-webyp-e3de0f2e-daa9-4d97-ad47-861e89262a70-467602957\",\"item_type\":\"DOC\",\"lhc\":\"8008970\",\"ldir\":\"SF\",\"rate\":5,\"hasTripAdvisor\":false,\"mip_claimed_status\":\"mip_unclaimed\",\"mip_ypid\":\"467602957\",\"click_id\":523,\"listing_features\":\"scheduling\"}' href=\"https://patients.doctor.com/directAppointment?provider=214254&amp;partner=YP\" rel=\"nofollow noopener\" target=\"_blank\"><svg xmlns=\"http://www.w3.org/2000/svg\"><use xlink:href=\"#make-an-appointment\"></use></svg>Make an Appointment</a></div></div></div></div></div>, <div class=\"result\" data-analytics='{\"adclick\":true,\"events\":\"event7,event6\",\"category\":\"8008970\",\"impression_id\":\"0ac224bf-35f9-44ea-8dbe-116f3a559f8d\",\"listing_id\":\"462023750\",\"item_id\":-1,\"listing_type\":\"free\",\"ypid\":\"462023750\",\"content_provider\":\"MDM\",\"srid\":\"L-webyp-e3de0f2e-daa9-4d97-ad47-861e89262a70-462023750\",\"item_type\":\"listing\",\"lhc\":\"8008970\",\"ldir\":\"SF\",\"rate\":0,\"hasTripAdvisor\":false,\"mip_claimed_status\":\"mip_unclaimed\",\"mip_ypid\":\"462023750\",\"rating\":\"free\",\"listing_index\":30,\"tier\":999,\"poi\":30,\"rank\":30,\"act\":1,\"features\":\"website,menu,phone\",\"impression\":1,\"content_partner_id\":\"MDM\"}' data-impressionid=\"0ac224bf-35f9-44ea-8dbe-116f3a559f8d\" data-ypid=\"462023750\" id=\"lid-462023750\"><div class=\"srp-listing clickable-area mdm\" data-analytics='{\"click_id\":1600,\"category\":\"8008970\",\"tier\":999}' data-bcnt=\"0\"><div class=\"v-card\"><div class=\"media-thumbnail\"><a class=\"media-thumbnail-wrapper photo\" data-analytics='{\"click_id\":1499,\"features\":\"photo-gallery\"}' href=\"/san-francisco-ca/mip/advanced-dental-care-462023750?lid=462023750#gallery\"><img alt=\"Advanced Dental Care\" asset_type=\"blob_api\" class=\"no-tracks lazy\" data-original=\"https://i1.ypcdn.com/blob/a63ec91d2c41386d6c357aefa6fd1e577a67280c_100x100_crop.jpg?05601dc\n\" height=\"100\" src=\"https://i1.ypcdn.com/blob/a63ec91d2c41386d6c357aefa6fd1e577a67280c_100x100_crop.jpg?05601dc\n\" width=\"100\"/><noscript><img alt=\"Advanced Dental Care\" asset_type=\"blob_api\" class=\"csrp\" height=\"100\" src=\"https://i1.ypcdn.com/blob/a63ec91d2c41386d6c357aefa6fd1e577a67280c_100x100_crop.jpg?05601dc\n\" width=\"100\"/></noscript></a></div><div class=\"info\"><h2 class=\"n\">30. <a class=\"business-name\" data-analytics='{\"target\":\"name\",\"feature_click\":\"\"}' href=\"/san-francisco-ca/mip/advanced-dental-care-462023750\" rel=\"\"><span>Advanced Dental Care</span></a></h2><div class=\"info-section info-primary\"><div class=\"categories\"><a data-analytics='{\"click_id\":1171,\"adclick\":false,\"listing_features\":\"category\",\"events\":\"\"}' href=\"https://www.yellowpages.com/san-francisco-ca/dentists\">Dentists</a><a data-analytics='{\"click_id\":1171,\"adclick\":false,\"listing_features\":\"category\",\"events\":\"\"}' href=\"https://www.yellowpages.com/san-francisco-ca/implant-dentistry\">Implant Dentistry</a><a data-analytics='{\"click_id\":1171,\"adclick\":false,\"listing_features\":\"category\",\"events\":\"\"}' href=\"https://www.yellowpages.com/san-francisco-ca/teeth-whitening-products-services\">Teeth Whitening Products &amp; Services</a></div><div class=\"ratings\" data-israteable=\"true\"></div><div class=\"badges\"><div class=\"years-in-business\"><div class=\"count\"><div class=\"number\">18</div></div><span>YEARS<br/>IN BUSINESS</span></div></div><div class=\"links\"><a class=\"track-visit-website\" data-analytics='{\"click_id\":6,\"act\":2,\"dku\":\"http://drpetersu.com\",\"FL\":\"url\",\"target\":\"website\",\"LOC\":\"http://drpetersu.com\",\"adclick\":true,\"iid\":\"0ac224bf-35f9-44ea-8dbe-116f3a559f8d\"}' href=\"http://drpetersu.com\" rel=\"nofollow noopener\" target=\"_blank\">Website</a><a class=\"menu\" data-analytics='{\"click_id\":1614,\"target\":\"menus\",\"listing_features\":\"menu-link\"}' href=\"/listings/462023750/menu?lid=462023750\">Services</a></div></div><div class=\"info-section info-secondary\"><div class=\"phones phone primary\">(415) 333-8200</div><p class=\"adr\"><div class=\"street-address\">1914 Ocean Ave</div><div class=\"locality\">San Francisco, CA 94127</div></p></div><div class=\"listing-ctas\"></div></div></div></div></div>]\n"
     ]
    }
   ],
   "source": [
    "#select the container with all the 30 different dentist \n",
    "body_dentist = soupcontent.find('div', {'class': 'search-results organic'})\n",
    "#select individual dentist listings\n",
    "each_dentist = body_dentist.find_all('div', {'class': 'result'})\n",
    "print(each_dentist) \n",
    "#Name, occupation, reviews, address, and phone numbers)"
   ]
  },
  {
   "cell_type": "code",
   "execution_count": 14,
   "metadata": {
    "tags": []
   },
   "outputs": [],
   "source": [
    "alldentist = []\n",
    "for i in each_dentist[:20]: #to print only first 20\n",
    "    name = i.find('a', {'class': 'business-name'}).get_text()\n",
    "    occupation = i.find('a', {'href': 'https://www.yellowpages.com/san-francisco-ca/dentists'}).get_text()\n",
    "    reviews = i.find('div', {'class': 'ratings'}).get_text()\n",
    "    address= i.find('div', {'class': 'street-address'}).get_text()\n",
    "    address1 = i.find('div', {'class': 'locality'}).get_text()\n",
    "    address2 = address +\", \" + address1\n",
    "    phone_numbers = i.find('div', {'class': 'phones phone primary'}).get_text()\n",
    "    images = i.find('img')['src']\n",
    "    dentist = [name, occupation, reviews, address2, phone_numbers, images]\n",
    "\n",
    "\n",
    "    alldentist.append(dentist)"
   ]
  },
  {
   "cell_type": "code",
   "execution_count": 15,
   "metadata": {},
   "outputs": [
    {
     "output_type": "stream",
     "name": "stdout",
     "text": [
      "                                     Name Occupation            Reviews  \\\n1                       Schulz John W DDS   Dentists                (1)   \n2                       Chin, Gayle A DDS   Dentists                      \n3                Jacobson, Theodore E DDS   Dentists                (1)   \n4                        Choi Richard DMD   Dentists                      \n5               San Francisco Endodontics   Dentists                      \n6                      Wong, Ralan DDS MS   Dentists                      \n7                  Melitas Euridice A DDS   Dentists                      \n8              Gabany, Joseph A R DMD MSD   Dentists                      \n9                 Gilberto A Gonzalez DDS   Dentists                      \n10                      Wagnild & Mueller   Dentists                      \n11                         Mercedes L Tan   Dentists                      \n12               Soderstrom, Susan DDS MS   Dentists                      \n13                      Song Oral Surgery   Dentists                (1)   \n14              Jang Gail C & Corey L DDS   Dentists                      \n15  Cosmetic Dentist Joshua Bernstein DDS   Dentists      BBB Rating: A   \n16                     H Katz Raymond DMD   Dentists                      \n17                       Wesley Chang DDS   Dentists     BBB Rating: A+   \n18                 Kenneth G Louie DDS MA   Dentists     BBB Rating: A+   \n19             Itani Dental San Francisco   Dentists  (1)BBB Rating: A+   \n20                   Parrett, Michael DDS   Dentists                      \n\n                                              Address   Phone Numbers  \\\n1   595 Buckingham Way Ste 331, San Francisco, CA ...  (415) 463-4420   \n2   595 Buckingham Way Ste 444, San Francisco, CA ...  (628) 777-2190   \n3              450 Sutter St, San Francisco, CA 94108  (415) 362-2167   \n4             724 Filbert St, San Francisco, CA 94133  (415) 986-1491   \n5              500 Spruce St, San Francisco, CA 94118  (415) 221-1788   \n6              500 Spruce St, San Francisco, CA 94118  (415) 221-1788   \n7         595 Buckingham Way, San Francisco, CA 94132  (415) 564-0171   \n8            260 Stockton St, San Francisco, CA 94108  (415) 392-2086   \n9            2480 Mission St, San Francisco, CA 94110  (415) 648-4333   \n10             450 Sutter St, San Francisco, CA 94108  (415) 956-5162   \n11           4312 Geary Blvd, San Francisco, CA 94118  (415) 751-8200   \n12        595 Buckingham Way, San Francisco, CA 94132  (415) 731-4343   \n13           3109 Geary Blvd, San Francisco, CA 94118  (415) 668-8600   \n14              291 Geary St, San Francisco, CA 94102  (415) 982-4015   \n15         505 Montgomery St, San Francisco, CA 94111  (415) 230-0833   \n16           5233 Geary Blvd, San Francisco, CA 94118  (415) 751-7900   \n17              380 20th Ave, San Francisco, CA 94121  (415) 751-1115   \n18            749 Taraval St, San Francisco, CA 94116  (415) 681-9020   \n19             450 Sutter St, San Francisco, CA 94108  (415) 685-0011   \n20               490 Post St, San Francisco, CA 94102  (415) 421-3822   \n\n                                               Images  \n1   https://i1.ypcdn.com/blob/e47b21d585125d5040e9...  \n2   //i4.ypcdn.com/ypu/images/default-thumbnails/t...  \n3   https://i1.ypcdn.com/blob/857daf560c99ec205a17...  \n4   //i4.ypcdn.com/ypu/images/default-thumbnails/t...  \n5   //i1.ypcdn.com/ypu/images/default-thumbnails/t...  \n6   //i4.ypcdn.com/ypu/images/default-thumbnails/t...  \n7   //i4.ypcdn.com/ypu/images/default-thumbnails/t...  \n8   https://i1.ypcdn.com/blob/a90c69f6de12ec085d04...  \n9   //i4.ypcdn.com/ypu/images/default-thumbnails/t...  \n10  //i3.ypcdn.com/ypu/images/default-thumbnails/t...  \n11  https://i1.ypcdn.com/blob/cad6f6842ee55f56f32f...  \n12  //i3.ypcdn.com/ypu/images/default-thumbnails/t...  \n13  https://i1.ypcdn.com/blob/f65c12b3d14599ffe852...  \n14  //i4.ypcdn.com/ypu/images/default-thumbnails/t...  \n15  //i1.ypcdn.com/ypu/images/default-thumbnails/t...  \n16  //i1.ypcdn.com/ypu/images/default-thumbnails/t...  \n17  //i4.ypcdn.com/ypu/images/default-thumbnails/t...  \n18  https://i1.ypcdn.com/blob/ca142d272481189aaabd...  \n19  https://i1.ypcdn.com/blob/c690418ada4aea7e3704...  \n20  https://i1.ypcdn.com/blob/554174f7335d2eaaad8c...  \n"
     ]
    }
   ],
   "source": [
    "#Save the data in a Dictionary using DataFrame and then to a csv file, using name column, occupation column, reviews column, address column, and phone numbers column\n",
    "\n",
    "dentistdf = pd.DataFrame(alldentist,columns=['Name','Occupation','Reviews','Address','Phone Numbers','Images'], index = [1,2,3,4,5,6,7,8,9,10,11,12,13,14,15,16,17,18,19,20])\n",
    "print(dentistdf)\n",
    "\n",
    "\n",
    "#convert to csv\n",
    "dentistdf.to_csv('dentisttrial.csv', columns=['Name','Occupation','Reviews','Address','Phone Numbers','Images'], index = [0,1,2,3,4,5,6,7,8,9,10,11,12,13,14,15,16,17,18,19,20]) \n"
   ]
  },
  {
   "cell_type": "code",
   "execution_count": null,
   "metadata": {},
   "outputs": [],
   "source": []
  }
 ]
}